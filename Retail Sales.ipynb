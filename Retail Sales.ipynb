{
 "cells": [
  {
   "cell_type": "code",
   "execution_count": null,
   "id": "e729e1db-5f22-4c1a-a6e3-085af95b9651",
   "metadata": {},
   "outputs": [],
   "source": [
    "!pip install kaggle"
   ]
  },
  {
   "cell_type": "code",
   "execution_count": null,
   "id": "d86979d5-9160-4914-9465-6f2767c9d1a2",
   "metadata": {},
   "outputs": [],
   "source": [
    "#download dataset from kaggle api\n",
    "import kaggle\n",
    "!kaggle datasets download ankitbansal06/retail-orders -f orders.csv"
   ]
  },
  {
   "cell_type": "code",
   "execution_count": null,
   "id": "76af38e1-86d6-47fc-b97a-9d2a3f7c0911",
   "metadata": {},
   "outputs": [],
   "source": [
    "#extract file from zip file\n",
    "import zipfile\n",
    "zip_ref = zipfile.ZipFile('orders.csv.zip')\n",
    "zip_ref.extractall() #extract file to dir\n",
    "zip_ref.close() #close file"
   ]
  },
  {
   "cell_type": "code",
   "execution_count": null,
   "id": "afd842c7-7c36-46ca-a2a0-08eeb2a7a2d2",
   "metadata": {},
   "outputs": [],
   "source": [
    "#read data from the file and handle null value\n",
    "import pandas as pd\n",
    "df= pd.read_csv('orders.csv')"
   ]
  },
  {
   "cell_type": "code",
   "execution_count": null,
   "id": "6cc389d8-df88-4214-af2c-81fa403d8563",
   "metadata": {},
   "outputs": [],
   "source": [
    "df.head(10)"
   ]
  },
  {
   "cell_type": "code",
   "execution_count": null,
   "id": "2eeb6787-3b72-465c-b9cf-0432cb267eaf",
   "metadata": {},
   "outputs": [],
   "source": [
    "df['Ship Mode'].unique()"
   ]
  },
  {
   "cell_type": "code",
   "execution_count": null,
   "id": "383984e4-9fd0-4512-a02e-4744dbc1f445",
   "metadata": {},
   "outputs": [],
   "source": [
    "df=pd.read_csv('orders.csv', na_values=['Not Available','unknown'])"
   ]
  },
  {
   "cell_type": "code",
   "execution_count": null,
   "id": "2f178935-4abc-46c7-8f0b-d27a934d5546",
   "metadata": {},
   "outputs": [],
   "source": [
    "df['Ship Mode'].unique()"
   ]
  },
  {
   "cell_type": "code",
   "execution_count": null,
   "id": "53afb9ca-e413-4d01-b26c-93e14310bd1e",
   "metadata": {},
   "outputs": [],
   "source": [
    "#rename columns names, make them lower case and replace space with underscore\n",
    "df.columns= df.columns.str.lower()\n",
    "df.columns= df.columns.str.replace(' ','_')"
   ]
  },
  {
   "cell_type": "code",
   "execution_count": null,
   "id": "3fb74f37-434f-4dad-a38b-8f9fc2a31d03",
   "metadata": {},
   "outputs": [],
   "source": [
    "df.head(5)"
   ]
  },
  {
   "cell_type": "code",
   "execution_count": null,
   "id": "353f212b-78fc-4993-ba95-749d9f07366a",
   "metadata": {},
   "outputs": [],
   "source": [
    "#derive new column discount\n",
    "df['discount']= df['list_price'] * df['discount_percent']*0.01"
   ]
  },
  {
   "cell_type": "code",
   "execution_count": null,
   "id": "1eebb81f-b3f0-4158-9d82-a02e9582d5ba",
   "metadata": {},
   "outputs": [],
   "source": [
    "#derive new column sales\n",
    "df['sale_price']= df['list_price']-df['discount']"
   ]
  },
  {
   "cell_type": "code",
   "execution_count": null,
   "id": "150bc202-4c11-42e2-9f74-a85d19fb65d0",
   "metadata": {},
   "outputs": [],
   "source": [
    "#derive new columns profit\n",
    "df['profit']= df['sale_price']-df['cost_price']"
   ]
  },
  {
   "cell_type": "code",
   "execution_count": null,
   "id": "ca204f19-74a3-41fe-b51f-e436bcab6d62",
   "metadata": {},
   "outputs": [],
   "source": [
    "df.dtypes"
   ]
  },
  {
   "cell_type": "code",
   "execution_count": null,
   "id": "fb8af22f-ce2c-4a9c-86f6-34377dc981a5",
   "metadata": {},
   "outputs": [],
   "source": [
    "#convert order date form object datatype to datetime\n",
    "df['order_date']= pd.to_datetime(df['order_date'],format=\"%Y-%m-%d\")"
   ]
  },
  {
   "cell_type": "code",
   "execution_count": null,
   "id": "58127c5e-2777-4cdb-b159-375be5e0b729",
   "metadata": {},
   "outputs": [],
   "source": [
    "df.dtypes"
   ]
  },
  {
   "cell_type": "code",
   "execution_count": null,
   "id": "28f89dd6-0f44-442c-968a-840c30cef21a",
   "metadata": {},
   "outputs": [],
   "source": [
    "#drop cost_price.list_price and discount_percent\n",
    "df.drop(columns=['list_price','discount_percent','cost_price'], inplace= True)"
   ]
  },
  {
   "cell_type": "code",
   "execution_count": null,
   "id": "0ee61184-093f-4f64-8c46-810ef676ea02",
   "metadata": {},
   "outputs": [],
   "source": [
    "df.head(5)"
   ]
  },
  {
   "cell_type": "code",
   "execution_count": null,
   "id": "61d197c7-17f9-43cd-bd5a-d42969df1a2f",
   "metadata": {},
   "outputs": [],
   "source": [
    "import pyodbc"
   ]
  },
  {
   "cell_type": "code",
   "execution_count": null,
   "id": "f8e06f90-e3bd-492b-a256-69424ce54741",
   "metadata": {},
   "outputs": [],
   "source": [
    "#load the data into sql server using replace option\n",
    "import sqlalchemy as sal\n",
    "engine = sal.create_engine(r'mssql://DESKTOP-16B2BGO\\SQLEXPRESS/retail_sales?driver=ODBC+DRIVER+17+FOR+SQL+SERVER')\n",
    "conn= engine.connect()"
   ]
  },
  {
   "cell_type": "code",
   "execution_count": null,
   "id": "4cd4ab2e-dc90-473a-9fbd-62c4e0ac9a56",
   "metadata": {},
   "outputs": [],
   "source": [
    "#laod the data into sql server using append option \n",
    "df.to_sql('df_orders',con=conn, index=False , if_exists= 'append')"
   ]
  },
  {
   "cell_type": "code",
   "execution_count": null,
   "id": "2f73834f-181e-4c34-9d4f-c1d71614a1db",
   "metadata": {},
   "outputs": [],
   "source": []
  }
 ],
 "metadata": {
  "kernelspec": {
   "display_name": "Python 3 (ipykernel)",
   "language": "python",
   "name": "python3"
  },
  "language_info": {
   "codemirror_mode": {
    "name": "ipython",
    "version": 3
   },
   "file_extension": ".py",
   "mimetype": "text/x-python",
   "name": "python",
   "nbconvert_exporter": "python",
   "pygments_lexer": "ipython3",
   "version": "3.12.4"
  }
 },
 "nbformat": 4,
 "nbformat_minor": 5
}
